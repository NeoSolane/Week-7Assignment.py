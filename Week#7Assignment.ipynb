{
 "cells": [
  {
   "cell_type": "code",
   "execution_count": null,
   "id": "2cc75d3d",
   "metadata": {},
   "outputs": [],
   "source": [
    "import pandas as pd\n",
    "import seaborn as sns\n",
    "import matplotlib.pyplot as plt\n",
    "from sklearn.datasets import load_iris\n",
    "\n",
    "# Load Iris dataset from sklearn\n",
    "iris_data = load_iris()\n",
    "df = pd.DataFrame(data=iris_data.data, columns=iris_data.feature_names)\n",
    "df['species'] = pd.Categorical.from_codes(iris_data.target, iris_data.target_names)\n",
    "\n",
    "# Display first few rows\n",
    "print(df.head())\n",
    "\n",
    "# Check data types and missing values\n",
    "print(df.info())\n",
    "print(df.isnull().sum())\n"
   ]
  },
  {
   "cell_type": "code",
   "execution_count": null,
   "id": "ed205095",
   "metadata": {},
   "outputs": [],
   "source": [
    "# Basic statistics\n",
    "print(df.describe())\n",
    "\n",
    "# Group by species and compute mean of each numerical column\n",
    "grouped_means = df.groupby('species').mean()\n",
    "print(grouped_means)\n",
    "\n",
    "# Interesting finding\n",
    "print(\"Interesting pattern: Setosa flowers tend to have shorter petals and sepals compared to Virginica.\")\n"
   ]
  },
  {
   "cell_type": "code",
   "execution_count": null,
   "id": "972fd004",
   "metadata": {},
   "outputs": [],
   "source": [
    "# Simulate a date range\n",
    "df['date'] = pd.date_range(start='2022-01-01', periods=len(df), freq='D')\n",
    "df['petal length trend'] = df['petal length (cm)'].sort_values().values\n",
    "\n",
    "plt.figure(figsize=(10, 5))\n",
    "plt.plot(df['date'], df['petal length trend'], label='Petal Length Trend')\n",
    "plt.title('Petal Length Trend Over Time')\n",
    "plt.xlabel('Date')\n",
    "plt.ylabel('Petal Length (cm)')\n",
    "plt.legend()\n",
    "plt.grid(True)\n",
    "plt.tight_layout()\n",
    "plt.show()\n"
   ]
  },
  {
   "cell_type": "code",
   "execution_count": null,
   "id": "aa09e22b",
   "metadata": {},
   "outputs": [],
   "source": [
    "# Bar Chart - Average Petal Length per Species\n",
    "species_avg = df.groupby('species')['petal length (cm)'].mean().reset_index()\n",
    "\n",
    "plt.figure(figsize=(8, 5))\n",
    "sns.barplot(data=species_avg, x='species', y='petal length (cm)', palette='Set2')\n",
    "plt.title('Average Petal Length per Species')\n",
    "plt.xlabel('Species')\n",
    "plt.ylabel('Petal Length (cm)')\n",
    "plt.tight_layout()\n",
    "plt.show()\n"
   ]
  },
  {
   "cell_type": "code",
   "execution_count": null,
   "id": "e4cdc45c",
   "metadata": {},
   "outputs": [],
   "source": [
    "# Histogram - Distribution of Sepal Width\n",
    "plt.figure(figsize=(8, 5))\n",
    "sns.histplot(df['sepal width (cm)'], kde=True, color='skyblue')\n",
    "plt.title('Distribution of Sepal Width')\n",
    "plt.xlabel('Sepal Width (cm)')\n",
    "plt.ylabel('Frequency')\n",
    "plt.tight_layout()\n",
    "plt.show()\n"
   ]
  },
  {
   "cell_type": "code",
   "execution_count": null,
   "id": "d0c7f8b2",
   "metadata": {},
   "outputs": [],
   "source": [
    "# Scatter Plot - Sepal Length vs. Petal Length\n",
    "plt.figure(figsize=(8, 5))\n",
    "sns.scatterplot(data=df, x='sepal length (cm)', y='petal length (cm)', hue='species', palette='Set1')\n",
    "plt.title('Sepal Length vs Petal Length by Species')\n",
    "plt.xlabel('Sepal Length (cm)')\n",
    "plt.ylabel('Petal Length (cm)')\n",
    "plt.legend(title='Species')\n",
    "plt.tight_layout()\n",
    "plt.show()\n"
   ]
  },
  {
   "cell_type": "code",
   "execution_count": null,
   "id": "540de85b",
   "metadata": {},
   "outputs": [],
   "source": [
    "# Error Handling Example for reading CSV\n",
    "try:\n",
    "    df = pd.read_csv('your_dataset.csv')\n",
    "except FileNotFoundError:\n",
    "    print(\"Error: File not found.\")\n",
    "except pd.errors.EmptyDataError:\n",
    "    print(\"Error: File is empty.\")\n",
    "except Exception as e:\n",
    "    print(f\"Unexpected error: {e}\")\n"
   ]
  }
 ],
 "metadata": {},
 "nbformat": 4,
 "nbformat_minor": 5
}